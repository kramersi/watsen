{
 "cells": [
  {
   "cell_type": "markdown",
   "metadata": {},
   "source": [
    "# Evaluation of WATSEN\n",
    "## Some housekeeping\n"
   ]
  },
  {
   "cell_type": "code",
   "execution_count": 2,
   "metadata": {
    "scrolled": true
   },
   "outputs": [],
   "source": [
    "# For reloading external modules\n",
    "%load_ext autoreload\n",
    "%autoreload 2"
   ]
  },
  {
   "cell_type": "code",
   "execution_count": 1,
   "metadata": {
    "collapsed": true
   },
   "outputs": [],
   "source": [
    "import setup\n",
    "import fetch_videos\n",
    "import json"
   ]
  },
  {
   "cell_type": "markdown",
   "metadata": {},
   "source": [
    "### Evaluation settings\n",
    "The method is tested with video data from the floodX experiments.\n"
   ]
  },
  {
   "cell_type": "code",
   "execution_count": 7,
   "metadata": {},
   "outputs": [
    {
     "name": "stdout",
     "output_type": "stream",
     "text": [
      "{'frame_extraction_combinations': [[0], [0, 0.1], [0, 0.2], [0, 0.5], [0, 1], [0, 0.1, 0.2], [0, 0.2, 0.4], [0, 0.5, 1], [0, 1, 2], [0, 5, 10], [0, 0.1, 0.3], [0, 0.2, 0.6], [0, 0.5, 1.5], [0, 0.2, 1.2]]}\n"
     ]
    }
   ],
   "source": [
    "working_dir='E:/watson_eval'\n",
    "video_archive_url='https://zenodo.org/record/830451/files/s3_cam1_instar_161007A.tar'\n",
    "\n",
    "# read more evaluation settings\n",
    "with open('evaluation_settings.json') as json_data:\n",
    "    settings = json.load(json_data)\n"
   ]
  },
  {
   "cell_type": "markdown",
   "metadata": {},
   "source": [
    "### Set up folder structure\n"
   ]
  },
  {
   "cell_type": "code",
   "execution_count": 9,
   "metadata": {},
   "outputs": [
    {
     "name": "stdout",
     "output_type": "stream",
     "text": [
      "['E:/watson_eval\\\\1_fetch_videos', 'E:/watson_eval\\\\2_extract_frames', 'E:/watson_eval\\\\3_select_for_labelling', 'E:/watson_eval\\\\4_select_training_subsets', 'E:/watson_eval\\\\5_train', 'E:/watson_eval\\\\6_predict', 'E:/watson_eval\\\\7_classify', 'E:/watson_eval\\\\8_compare', 'E:/watson_eval\\\\9_analyze']\n"
     ]
    }
   ],
   "source": [
    "stages = setup.run(working_dir)"
   ]
  },
  {
   "cell_type": "markdown",
   "metadata": {},
   "source": [
    "## Fetch videos"
   ]
  },
  {
   "cell_type": "code",
   "execution_count": 13,
   "metadata": {
    "scrolled": true
   },
   "outputs": [
    {
     "name": "stdout",
     "output_type": "stream",
     "text": [
      "Extracting data for s3_cam1_instar_161007A. This may take a while. Please wait.\n"
     ]
    }
   ],
   "source": [
    "video_folder = fetch_videos.sync(stages[0], video_archive_url)"
   ]
  },
  {
   "cell_type": "markdown",
   "metadata": {},
   "source": [
    "## Extract video frames into multiframe images\n"
   ]
  }
 ],
 "metadata": {
  "kernelspec": {
   "display_name": "Python 3",
   "language": "python",
   "name": "python3"
  },
  "language_info": {
   "codemirror_mode": {
    "name": "ipython",
    "version": 3
   },
   "file_extension": ".py",
   "mimetype": "text/x-python",
   "name": "python",
   "nbconvert_exporter": "python",
   "pygments_lexer": "ipython3",
   "version": "3.5.3"
  }
 },
 "nbformat": 4,
 "nbformat_minor": 2
}
