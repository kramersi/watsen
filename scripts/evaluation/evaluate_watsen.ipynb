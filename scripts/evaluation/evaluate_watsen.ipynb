{
 "cells": [
  {
   "cell_type": "markdown",
   "metadata": {},
   "source": [
    "# Evaluation of WATSEN\n",
    "## Some housekeeping\n"
   ]
  },
  {
   "cell_type": "code",
   "execution_count": 17,
   "metadata": {
    "scrolled": true
   },
   "outputs": [
    {
     "name": "stdout",
     "output_type": "stream",
     "text": [
      "The autoreload extension is already loaded. To reload it, use:\n",
      "  %reload_ext autoreload\n"
     ]
    }
   ],
   "source": [
    "# For reloading external modules\n",
    "%load_ext autoreload\n",
    "%autoreload 2"
   ]
  },
  {
   "cell_type": "code",
   "execution_count": 18,
   "metadata": {
    "collapsed": true
   },
   "outputs": [],
   "source": [
    "import setup\n",
    "import fetch_videos\n",
    "import extract_frames\n",
    "import json\n",
    "import os"
   ]
  },
  {
   "cell_type": "markdown",
   "metadata": {},
   "source": [
    "### Evaluation settings\n",
    "The method is tested with video data from the floodX experiments.\n"
   ]
  },
  {
   "cell_type": "code",
   "execution_count": 64,
   "metadata": {},
   "outputs": [],
   "source": [
    "working_dir='E:/watson_eval'\n",
    "video_archive_url='https://zenodo.org/record/830451/files/s3_cam1_instar_161007A.tar'\n",
    "water_level_data_url='https://zenodo.org/record/1014028/files/all_s3_h_us_maxbotix.txt'\n",
    "camera_time_offset_url='https://zenodo.org/record/830451/files/temporal_offsets_of%20cameras.txt'\n",
    "\n",
    "# read more evaluation settings\n",
    "with open('evaluation_settings.json') as json_data:\n",
    "    settings = json.load(json_data)\n"
   ]
  },
  {
   "cell_type": "markdown",
   "metadata": {},
   "source": [
    "### Set up folder structure\n"
   ]
  },
  {
   "cell_type": "code",
   "execution_count": 20,
   "metadata": {
    "collapsed": true,
    "scrolled": true
   },
   "outputs": [],
   "source": [
    "stages = setup.run(working_dir)"
   ]
  },
  {
   "cell_type": "markdown",
   "metadata": {},
   "source": [
    "## Fetch videos"
   ]
  },
  {
   "cell_type": "code",
   "execution_count": 21,
   "metadata": {
    "scrolled": false
   },
   "outputs": [
    {
     "name": "stdout",
     "output_type": "stream",
     "text": [
      "Download size:  2295258624\n",
      "s3_cam1_instar_161007A already present - Skipping extraction of E:/watson_eval\\1_fetch_videos\\downloads\\s3_cam1_instar_161007A.tar.\n"
     ]
    }
   ],
   "source": [
    "video_folder = fetch_videos.sync(stages[0], video_archive_url)"
   ]
  },
  {
   "cell_type": "markdown",
   "metadata": {},
   "source": [
    "## Extract video frames into multiframe images\n"
   ]
  },
  {
   "cell_type": "code",
   "execution_count": 54,
   "metadata": {
    "scrolled": false
   },
   "outputs": [],
   "source": [
    "# Get water level and time offset data\n",
    "water_levels = extract_frames.load_water_level(water_level_data_url)\n",
    "time_offset = extract_frames.load_video_time_offsets(camera_time_offset_url)"
   ]
  },
  {
   "cell_type": "code",
   "execution_count": 65,
   "metadata": {
    "scrolled": true
   },
   "outputs": [],
   "source": [
    "for timedeltas in settings['frame_extraction_combinations']:\n",
    "    \n",
    "    output_dir = os.path.join(stages[1], '_'.join(str(x) for x in timedeltas))\n",
    "    extract_frames.extract_from_all(\n",
    "        video_folder, output_dir, timedeltas, \n",
    "        tuple(settings['frame_extraction_new_dim']), \n",
    "        water_levels, time_offset)"
   ]
  }
 ],
 "metadata": {
  "kernelspec": {
   "display_name": "Python 3",
   "language": "python",
   "name": "python3"
  },
  "language_info": {
   "codemirror_mode": {
    "name": "ipython",
    "version": 3
   },
   "file_extension": ".py",
   "mimetype": "text/x-python",
   "name": "python",
   "nbconvert_exporter": "python",
   "pygments_lexer": "ipython3",
   "version": "3.5.3"
  }
 },
 "nbformat": 4,
 "nbformat_minor": 2
}
